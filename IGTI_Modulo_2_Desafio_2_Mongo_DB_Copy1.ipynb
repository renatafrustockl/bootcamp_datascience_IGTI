{
  "nbformat": 4,
  "nbformat_minor": 0,
  "metadata": {
    "kernelspec": {
      "display_name": "Python 3",
      "language": "python",
      "name": "python3"
    },
    "language_info": {
      "codemirror_mode": {
        "name": "ipython",
        "version": 3
      },
      "file_extension": ".py",
      "mimetype": "text/x-python",
      "name": "python",
      "nbconvert_exporter": "python",
      "pygments_lexer": "ipython3",
      "version": "3.7.1"
    },
    "colab": {
      "name": "IGTI - Modulo 2 - Desafio 2 - Mongo DB-Copy1.ipynb",
      "provenance": [],
      "include_colab_link": true
    }
  },
  "cells": [
    {
      "cell_type": "markdown",
      "metadata": {
        "id": "view-in-github",
        "colab_type": "text"
      },
      "source": [
        "<a href=\"https://colab.research.google.com/github/renatafrustockl/bootcamp_datascience_IGTI/blob/master/IGTI_Modulo_2_Desafio_2_Mongo_DB_Copy1.ipynb\" target=\"_parent\"><img src=\"https://colab.research.google.com/assets/colab-badge.svg\" alt=\"Open In Colab\"/></a>"
      ]
    },
    {
      "cell_type": "code",
      "metadata": {
        "id": "sExbCME-JeYi"
      },
      "source": [
        "try:\n",
        "    import pymongo\n",
        "except:\n",
        "    !pip install pymongo\n",
        "    import pymongo"
      ],
      "execution_count": null,
      "outputs": []
    },
    {
      "cell_type": "markdown",
      "metadata": {
        "id": "YnGlz-BoJeYo"
      },
      "source": [
        "### Conectar ao mongoDB"
      ]
    },
    {
      "cell_type": "code",
      "metadata": {
        "id": "k7lr8xsLJeYo"
      },
      "source": [
        "from pymongo import MongoClient\n",
        "client = MongoClient('mongodb://localhost:27017/')"
      ],
      "execution_count": null,
      "outputs": []
    },
    {
      "cell_type": "markdown",
      "metadata": {
        "id": "QeGf1Ql8JeYr"
      },
      "source": [
        "### Criar/acessar database bootcamp_igti"
      ]
    },
    {
      "cell_type": "code",
      "metadata": {
        "id": "0NoHqBHHJeYr"
      },
      "source": [
        "db = client.bootcamp_igti"
      ],
      "execution_count": null,
      "outputs": []
    },
    {
      "cell_type": "markdown",
      "metadata": {
        "id": "wA9SXI49JeYu"
      },
      "source": [
        "### Criar uma colecao(Tipo de tabela do Mongo) videogames_sales"
      ]
    },
    {
      "cell_type": "code",
      "metadata": {
        "id": "0T4SfnsCJeYu"
      },
      "source": [
        "videogames_sales = db.videogames_sales"
      ],
      "execution_count": null,
      "outputs": []
    },
    {
      "cell_type": "markdown",
      "metadata": {
        "id": "AM_L-GmFJeYy"
      },
      "source": [
        "### Mostra quando registro existem na Collection"
      ]
    },
    {
      "cell_type": "code",
      "metadata": {
        "id": "OUA_16HXJeYz",
        "outputId": "109fcabb-96ea-4f28-960e-c2eabe3d89d3"
      },
      "source": [
        "videogames_sales.count_documents({})"
      ],
      "execution_count": null,
      "outputs": [
        {
          "output_type": "execute_result",
          "data": {
            "text/plain": [
              "0"
            ]
          },
          "metadata": {
            "tags": []
          },
          "execution_count": 11
        }
      ]
    },
    {
      "cell_type": "markdown",
      "metadata": {
        "id": "C3rEijnCJeY2"
      },
      "source": [
        "### Ler/Salvar Arquivos"
      ]
    },
    {
      "cell_type": "code",
      "metadata": {
        "id": "qcvO_05RJeY3"
      },
      "source": [
        "def salvarArquivoFormatoDict(nomeArquivo,objetoDict):\n",
        "    import json\n",
        "    with open(nomeArquivo,'w') as fileout:    \n",
        "        #How to save to file a dictionary with utf-8 strings correctly\n",
        "        #https://stackoverflow.com/questions/10231568/how-to-save-to-file-a-dictionary-with-utf-8-strings-correctly\n",
        "        json.dump(objetoDict,fileout,indent=4,ensure_ascii=False)\n",
        "\n",
        "def lerArquivoEmFormatoJson(nomeArquivo):\n",
        "    import json\n",
        "    with open(nomeArquivo,'r') as fileread:\n",
        "        #resolve o problema de nomes nomes    \n",
        "        arquivo = json.load(fileread)    \n",
        "    return arquivo"
      ],
      "execution_count": null,
      "outputs": []
    },
    {
      "cell_type": "code",
      "metadata": {
        "id": "3Ok6yeZPJeY5"
      },
      "source": [
        "caminhoArquivo = 'D:\\\\Temp\\\\pytube\\\\videogame_sales_mongo.json'"
      ],
      "execution_count": null,
      "outputs": []
    },
    {
      "cell_type": "markdown",
      "metadata": {
        "id": "hDnOdm2-JeY8"
      },
      "source": [
        "### Remover uma chave de um objeto dict"
      ]
    },
    {
      "cell_type": "code",
      "metadata": {
        "id": "0vdhV97PJeY8"
      },
      "source": [
        "def removerChavedeDict(objetoDict,chave):\n",
        "    del objetoDict[chave]"
      ],
      "execution_count": null,
      "outputs": []
    },
    {
      "cell_type": "markdown",
      "metadata": {
        "id": "kxk3ZLl8JeY-"
      },
      "source": [
        "### Ler arquivo videogame_sales_mongo.json"
      ]
    },
    {
      "cell_type": "code",
      "metadata": {
        "id": "qrOX-cZRJeY_",
        "outputId": "32995338-2289-41bc-fd86-93498b860209"
      },
      "source": [
        "listaVideogameSales = lerArquivoEmFormatoJson(caminhoArquivo)"
      ],
      "execution_count": null,
      "outputs": [
        {
          "output_type": "stream",
          "text": [
            "IOPub data rate exceeded.\n",
            "The notebook server will temporarily stop sending output\n",
            "to the client in order to avoid crashing it.\n",
            "To change this limit, set the config variable\n",
            "`--NotebookApp.iopub_data_rate_limit`.\n",
            "\n",
            "Current values:\n",
            "NotebookApp.iopub_data_rate_limit=1000000.0 (bytes/sec)\n",
            "NotebookApp.rate_limit_window=3.0 (secs)\n",
            "\n"
          ],
          "name": "stderr"
        }
      ]
    },
    {
      "cell_type": "markdown",
      "metadata": {
        "id": "glxyu0EIJeZB"
      },
      "source": [
        "### Quantidade de registro na lista"
      ]
    },
    {
      "cell_type": "code",
      "metadata": {
        "id": "VZXf78j9JeZC",
        "outputId": "204d9f07-bbfe-4ff7-e738-0ef8bffb5c76"
      },
      "source": [
        "len(listaVideogameSales)"
      ],
      "execution_count": null,
      "outputs": [
        {
          "output_type": "execute_result",
          "data": {
            "text/plain": [
              "16598"
            ]
          },
          "metadata": {
            "tags": []
          },
          "execution_count": 23
        }
      ]
    },
    {
      "cell_type": "markdown",
      "metadata": {
        "id": "XPIoinUUJeZE"
      },
      "source": [
        "### recuperando o ultimo registro"
      ]
    },
    {
      "cell_type": "code",
      "metadata": {
        "id": "5aEFpiL7JeZF",
        "outputId": "f591b941-ec43-4328-a72a-526dc0726fbc"
      },
      "source": [
        "listaVideogameSales[-1]"
      ],
      "execution_count": null,
      "outputs": [
        {
          "output_type": "execute_result",
          "data": {
            "text/plain": [
              "{'_id': {'$oid': '5f7a17010a65c63ff4974c5f'},\n",
              " 'Rank': 16600,\n",
              " 'Name': 'Spirits & Spells',\n",
              " 'Platform': 'GBA',\n",
              " 'Year': 2003,\n",
              " 'Genre': 'Platform',\n",
              " 'Publisher': 'Wanadoo',\n",
              " 'NA_Sales': 0.01,\n",
              " 'EU_Sales': 0,\n",
              " 'JP_Sales': 0,\n",
              " 'Other_Sales': 0,\n",
              " 'Global_Sales': 0.01}"
            ]
          },
          "metadata": {
            "tags": []
          },
          "execution_count": 24
        }
      ]
    },
    {
      "cell_type": "markdown",
      "metadata": {
        "id": "rVjRy9bzJeZI"
      },
      "source": [
        "### Remove ids da lista"
      ]
    },
    {
      "cell_type": "code",
      "metadata": {
        "id": "si0rhMlfJeZJ"
      },
      "source": [
        "def removerIdsDeColecao(lista):\n",
        "    listaNova  = []\n",
        "    for item in lista:\n",
        "        removerChavedeDict(item,'_id')\n",
        "        listaNova.append(item)\n",
        "    return listaNova"
      ],
      "execution_count": null,
      "outputs": []
    },
    {
      "cell_type": "markdown",
      "metadata": {
        "id": "PsowlaE9JeZM"
      },
      "source": [
        "### Removendo ids da lista"
      ]
    },
    {
      "cell_type": "code",
      "metadata": {
        "id": "TvpJC-qRJeZM"
      },
      "source": [
        "listaVideogameSalesSemIds = removerIdsDeColecao(listaVideogameSales)"
      ],
      "execution_count": null,
      "outputs": []
    },
    {
      "cell_type": "markdown",
      "metadata": {
        "id": "1Ea-sA-6JeZO"
      },
      "source": [
        "### Recuperando o penultimo registro"
      ]
    },
    {
      "cell_type": "code",
      "metadata": {
        "id": "Ftsf808FJeZP",
        "outputId": "35eb277e-6861-4918-fa63-6b7dc43b51e0"
      },
      "source": [
        "listaVideogameSales[-2]"
      ],
      "execution_count": null,
      "outputs": [
        {
          "output_type": "execute_result",
          "data": {
            "text/plain": [
              "{'Rank': 16599,\n",
              " 'Name': 'Know How 2',\n",
              " 'Platform': 'DS',\n",
              " 'Year': 2010,\n",
              " 'Genre': 'Puzzle',\n",
              " 'Publisher': '7G//AMES',\n",
              " 'NA_Sales': 0,\n",
              " 'EU_Sales': 0.01,\n",
              " 'JP_Sales': 0,\n",
              " 'Other_Sales': 0,\n",
              " 'Global_Sales': 0.01}"
            ]
          },
          "metadata": {
            "tags": []
          },
          "execution_count": 28
        }
      ]
    },
    {
      "cell_type": "markdown",
      "metadata": {
        "id": "69z4nicZJeZS"
      },
      "source": [
        "### Inserir todos registro de uma vez"
      ]
    },
    {
      "cell_type": "code",
      "metadata": {
        "id": "S_NlSurPJeZS",
        "outputId": "a1f07067-63b1-4a6c-df8e-2e9f44795c7e"
      },
      "source": [
        "videogames_sales.insert_many(listaVideogameSalesSemIds)"
      ],
      "execution_count": null,
      "outputs": [
        {
          "output_type": "execute_result",
          "data": {
            "text/plain": [
              "<pymongo.results.InsertManyResult at 0x1f3d82b30c8>"
            ]
          },
          "metadata": {
            "tags": []
          },
          "execution_count": 29
        }
      ]
    },
    {
      "cell_type": "markdown",
      "metadata": {
        "id": "mSFQxX_3JeZX"
      },
      "source": [
        "### Verificar quando registro existem em videogames_sales"
      ]
    },
    {
      "cell_type": "code",
      "metadata": {
        "id": "_GEU3f-bJeZY",
        "outputId": "849142e3-abd3-4de1-c8aa-fac8dd2739b4"
      },
      "source": [
        "videogames_sales.count_documents({})"
      ],
      "execution_count": null,
      "outputs": [
        {
          "output_type": "execute_result",
          "data": {
            "text/plain": [
              "16598"
            ]
          },
          "metadata": {
            "tags": []
          },
          "execution_count": 30
        }
      ]
    }
  ]
}