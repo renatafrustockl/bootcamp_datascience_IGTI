{
  "nbformat": 4,
  "nbformat_minor": 0,
  "metadata": {
    "colab": {
      "name": "kmeans.ipynb",
      "provenance": [],
      "authorship_tag": "ABX9TyO8p+q9wLmMW2MJnYS+Mk7K",
      "include_colab_link": true
    },
    "kernelspec": {
      "name": "python3",
      "display_name": "Python 3"
    }
  },
  "cells": [
    {
      "cell_type": "markdown",
      "metadata": {
        "id": "view-in-github",
        "colab_type": "text"
      },
      "source": [
        "<a href=\"https://colab.research.google.com/github/renatafrustockl/bootcamp_datascience_IGTI/blob/master/kmeans.ipynb\" target=\"_parent\"><img src=\"https://colab.research.google.com/assets/colab-badge.svg\" alt=\"Open In Colab\"/></a>"
      ]
    },
    {
      "cell_type": "code",
      "metadata": {
        "id": "tXCsso39Uqq7",
        "colab": {
          "base_uri": "https://localhost:8080/",
          "height": 306
        },
        "outputId": "72c986fc-b9d8-494c-d994-c9192cbd5365"
      },
      "source": [
        "import numpy as np\n",
        "from matplotlib import pyplot as plt\n",
        "from sklearn.datasets import make_blobs\n",
        "from sklearn.cluster import KMeans\n",
        "\n",
        "from sklearn.cluster import KMeans\n",
        "kmeans = KMeans(n_clusters=1, init='k-means++', max_iter=300, n_init=10)\n",
        "pred_y = kmeans.fit_predict(dataset)\n",
        "\n",
        "plt.scatter(dataset[:,0],dataset[:,1])\n",
        "plt.xlim(0,10)\n",
        "plt.ylim(0,10)\n",
        "plt.grid()\n",
        "\n",
        "plt.scatter(kmeans.cluster_centers_[:,0], kmeans.cluster_centers_[:,1], s=70, c='red')\n",
        "plt.show()\n",
        "\n",
        "kmeans = KMeans(n_clusters=1, init='k-means++', max_iter=300, n_init=10)\n",
        "kmeans.fit(X)\n",
        "\n",
        "wcss.append(kmeans.inertia_)\n",
        "print(wcss)"
      ],
      "execution_count": null,
      "outputs": [
        {
          "output_type": "display_data",
          "data": {
            "image/png": "[encoded data removed]",
            "text/plain": [
              "<Figure size 432x288 with 1 Axes>"
            ]
          },
          "metadata": {
            "tags": [],
            "needs_background": "light"
          }
        },
        {
          "output_type": "stream",
          "text": [
            "[31547.372471390485, 16949.214472147927, 9464.847250570496, 6005.101775346179, 4717.404091931214, 3662.6403286096665, 2974.7988616060043, 2490.8713955724124, 2050.2071307551255, 1842.8811515681252, 1648.9943608775416, 1475.54868155361, 1303.0083263875572, 1164.041816039116, 1071.5252543035135, 977.6978392106101, 917.2713573393171, 851.5458819668697, 791.8334905156039, 31547.372471390485, 31547.372471390485, 31547.372471390485, 31547.372471390485]\n"
          ],
          "name": "stdout"
        }
      ]
    },
    {
      "cell_type": "code",
      "metadata": {
        "id": "0aJ0NXnsoJil"
      },
      "source": [
        ""
      ],
      "execution_count": null,
      "outputs": []
    }
  ]
}